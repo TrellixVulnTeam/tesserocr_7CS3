{
 "cells": [
  {
   "cell_type": "markdown",
   "metadata": {},
   "source": [
    "## Example 1:  Installation without conda/pip/apt-get."
   ]
  },
  {
   "cell_type": "code",
   "execution_count": null,
   "metadata": {},
   "outputs": [],
   "source": [
    "# For those who cannot use conda, pip or apt-get to install packages.\n",
    "# They need to download the whole environment folder from github,\n",
    "# and then append the \"path to modules\" to sys.path.\n",
    "\n",
    "# sys.path explanation:\n",
    "# When you start a Python interpreter, one of the things it creates automatically is a list that contains \n",
    "# all of directories it will use to search for modules when importing.\n",
    "# This list is available in a variable named sys.path. \n",
    "\n",
    "import sys\n",
    "if \"../tesserocr_env/lib/python3.7/site-packages\" not in sys.path:\n",
    "    sys.path.append(\"../tesserocr_env/lib/python3.7/site-packages\")\n",
    "print(sys.path)"
   ]
  },
  {
   "cell_type": "markdown",
   "metadata": {},
   "source": [
    "## Example 2: Image to text. "
   ]
  },
  {
   "cell_type": "code",
   "execution_count": null,
   "metadata": {},
   "outputs": [],
   "source": [
    "from tesserocr import PyTessBaseAPI\n",
    "# only for displaying images.\n",
    "import matplotlib.pyplot as plt\n",
    "import matplotlib.image as mpimg\n",
    "\n",
    "images = [\"input/sample.jpg\", \"input/sample2.jpg\", \"input/sample3.jpg\"]\n",
    "\n",
    "with PyTessBaseAPI() as api:\n",
    "    for image in images:\n",
    "        api.SetImageFile(image)\n",
    "        \n",
    "        %pylab inline\n",
    "        img=mpimg.imread(image)\n",
    "        imgplot = plt.imshow(img)\n",
    "        plt.show()\n",
    "        \n",
    "        print(api.GetUTF8Text())\n",
    "        print(api.AllWordConfidences())\n",
    "# api is automatically finalized when used in a with-statement (context manager).\n",
    "# otherwise api.End() should be explicitly called when it's no longer needed."
   ]
  },
  {
   "cell_type": "markdown",
   "metadata": {},
   "source": [
    "## Example 3: pdf to image. "
   ]
  },
  {
   "cell_type": "code",
   "execution_count": null,
   "metadata": {},
   "outputs": [],
   "source": [
    "from pdf2image import convert_from_path, convert_from_bytes\n",
    "from PIL import Image\n",
    "\n",
    "from pdf2image.exceptions import (\n",
    "    PDFInfoNotInstalledError,\n",
    "    PDFPageCountError,\n",
    "    PDFSyntaxError\n",
    ")\n",
    "'''\n",
    "We need to specify the [poppler_path] variable to locate the [pdfinfo] executable (from poppler installation).\n",
    "That is, [poppler_path] is the path to the folder containing [pdfinfo].\n",
    "\n",
    "Directory tree structure of this project:\n",
    "\n",
    "/tesserocr\n",
    "├── src\n",
    "│   ├── example.ipynb\n",
    "│\n",
    "└── tesserocr_env\n",
    "    ├── bin\n",
    "       ├── pdfinfo\n",
    "       \n",
    "Therefore, when navigating from example.ipynb, \"../tesserocr_env/bin\" is the folder containing pdfinfo.\n",
    "''' \n",
    "## input pdf file from /tesserocr/src/input\n",
    "images = convert_from_path('input/pdf2image.pdf', poppler_path=\"../tesserocr_env/bin\")\n",
    "for i in range(len(images)):\n",
    "    image = images[i]\n",
    "    # image.show()\n",
    "    ## save files in /tesserocr/src/input\n",
    "    image.save(\"input/pdf2image\"+str(i+1)+\".jpg\")"
   ]
  },
  {
   "cell_type": "markdown",
   "metadata": {},
   "source": [
    "## Example 4: Detect image orientation automatically (like if it is rotated by 90 degree)."
   ]
  },
  {
   "cell_type": "code",
   "execution_count": null,
   "metadata": {},
   "outputs": [],
   "source": [
    "# remember to import PSM.\n",
    "from tesserocr import PyTessBaseAPI, PSM\n",
    "# only for displaying images.\n",
    "import matplotlib.pyplot as plt\n",
    "import matplotlib.image as mpimg\n",
    "\n",
    "images = [\"input/pdf2image3.jpg\", \"input/pdf2image4.jpg\"]\n",
    "\n",
    "# By specifying psm=PSM.AUTO_OSD, we can detect images even when some of them are rotated by 90 degree.\n",
    "# There are other page segmentation modes (PSMs):\n",
    "'''\n",
    "0 : OSD_ONLY: Orientation and script detection only.\n",
    "1 : AUTO_OSD: Automatic page segmentation with orientation and script detection. (OSD)\n",
    "2 : AUTO_ONLY: Automatic page segmentation, but no OSD, or OCR.\n",
    "3 : AUTO: Fully automatic page segmentation, but no OSD. (default mode for tesserocr)\n",
    "4 : SINGLE_COLUMN: Assume a single column of text of variable sizes.\n",
    "5 : SINGLE_BLOCK_VERT_TEXT: Assume a single uniform block of vertically aligned text.\n",
    "6 : SINGLE_BLOCK: Assume a single uniform block of text.\n",
    "7 : SINGLE_LINE: Treat the image as a single text line.\n",
    "8 : SINGLE_WORD: Treat the image as a single word.\n",
    "9 : CIRCLE_WORD: Treat the image as a single word in a circle.\n",
    "10 : SINGLE_CHAR: Treat the image as a single character.\n",
    "11 : SPARSE_TEXT: Find as much text as possible in no particular order.\n",
    "12 : SPARSE_TEXT_OSD: Sparse text with orientation and script detection\n",
    "13 : RAW_LINE: Treat the image as a single text line, bypassing hacks that are Tesseract-specific.\n",
    "'''\n",
    "\n",
    "with PyTessBaseAPI(psm=PSM.AUTO_OSD) as api:\n",
    "    for image in images:\n",
    "        api.SetImageFile(image)\n",
    "        \n",
    "        %pylab inline\n",
    "        img=mpimg.imread(image)\n",
    "        imgplot = plt.imshow(img)\n",
    "        plt.show()\n",
    "        \n",
    "        print(api.GetUTF8Text())\n",
    "        print(api.AllWordConfidences())\n",
    "# api is automatically finalized when used in a with-statement (context manager).\n",
    "# otherwise api.End() should be explicitly called when it's no longer needed."
   ]
  },
  {
   "cell_type": "code",
   "execution_count": null,
   "metadata": {},
   "outputs": [],
   "source": []
  }
 ],
 "metadata": {
  "kernelspec": {
   "display_name": "tesserocr_env",
   "language": "python",
   "name": "tesserocr_env"
  },
  "language_info": {
   "codemirror_mode": {
    "name": "ipython",
    "version": 3
   },
   "file_extension": ".py",
   "mimetype": "text/x-python",
   "name": "python",
   "nbconvert_exporter": "python",
   "pygments_lexer": "ipython3",
   "version": "3.7.8"
  }
 },
 "nbformat": 4,
 "nbformat_minor": 2
}
